{
  "cells": [
    {
      "cell_type": "markdown",
      "metadata": {
        "id": "view-in-github",
        "colab_type": "text"
      },
      "source": [
        "<a href=\"https://colab.research.google.com/github/tmatin100/wandb-mlops-001/blob/main/01_EDA.ipynb\" target=\"_parent\"><img src=\"https://colab.research.google.com/assets/colab-badge.svg\" alt=\"Open In Colab\"/></a>"
      ]
    },
    {
      "cell_type": "markdown",
      "metadata": {
        "id": "cLn81bOvpL41"
      },
      "source": [
        "<a href=\"https://colab.research.google.com/github/wandb/edu/blob/main/mlops-001/lesson1/01_EDA.ipynb\" target=\"_parent\"><img src=\"https://colab.research.google.com/assets/colab-badge.svg\" alt=\"Open In Colab\"/></a>\n",
        "<!--- @wandbcode{course-lesson1} -->"
      ],
      "id": "cLn81bOvpL41"
    },
    {
      "cell_type": "code",
      "execution_count": 1,
      "id": "faa157c5",
      "metadata": {
        "id": "faa157c5",
        "colab": {
          "base_uri": "https://localhost:8080/"
        },
        "outputId": "6a598722-7792-49ac-dfd7-247a857ab45e"
      },
      "outputs": [
        {
          "output_type": "stream",
          "name": "stdout",
          "text": [
            "--2024-01-02 19:29:44--  https://raw.githubusercontent.com/wandb/edu/main/mlops-001/lesson1/requirements.txt\n",
            "Resolving raw.githubusercontent.com (raw.githubusercontent.com)... 185.199.108.133, 185.199.109.133, 185.199.110.133, ...\n",
            "Connecting to raw.githubusercontent.com (raw.githubusercontent.com)|185.199.108.133|:443... connected.\n",
            "HTTP request sent, awaiting response... 200 OK\n",
            "Length: 82 [text/plain]\n",
            "Saving to: ‘requirements.txt’\n",
            "\n",
            "\rrequirements.txt      0%[                    ]       0  --.-KB/s               \rrequirements.txt    100%[===================>]      82  --.-KB/s    in 0s      \n",
            "\n",
            "2024-01-02 19:29:44 (2.62 MB/s) - ‘requirements.txt’ saved [82/82]\n",
            "\n",
            "--2024-01-02 19:29:45--  https://raw.githubusercontent.com/wandb/edu/main/mlops-001/lesson1/params.py\n",
            "Resolving raw.githubusercontent.com (raw.githubusercontent.com)... 185.199.108.133, 185.199.109.133, 185.199.110.133, ...\n",
            "Connecting to raw.githubusercontent.com (raw.githubusercontent.com)|185.199.108.133|:443... connected.\n",
            "HTTP request sent, awaiting response... 200 OK\n",
            "Length: 295 [text/plain]\n",
            "Saving to: ‘params.py’\n",
            "\n",
            "params.py           100%[===================>]     295  --.-KB/s    in 0s      \n",
            "\n",
            "2024-01-02 19:29:45 (12.5 MB/s) - ‘params.py’ saved [295/295]\n",
            "\n",
            "--2024-01-02 19:29:45--  https://raw.githubusercontent.com/wandb/edu/main/mlops-001/lesson1/utils.py\n",
            "Resolving raw.githubusercontent.com (raw.githubusercontent.com)... 185.199.108.133, 185.199.109.133, 185.199.110.133, ...\n",
            "Connecting to raw.githubusercontent.com (raw.githubusercontent.com)|185.199.108.133|:443... connected.\n",
            "HTTP request sent, awaiting response... 200 OK\n",
            "Length: 6721 (6.6K) [text/plain]\n",
            "Saving to: ‘utils.py’\n",
            "\n",
            "utils.py            100%[===================>]   6.56K  --.-KB/s    in 0s      \n",
            "\n",
            "2024-01-02 19:29:45 (46.2 MB/s) - ‘utils.py’ saved [6721/6721]\n",
            "\n",
            "Requirement already satisfied: torch>=1.9 in /usr/local/lib/python3.10/dist-packages (from -r requirements.txt (line 1)) (2.1.0+cu121)\n",
            "Requirement already satisfied: fastai>=2.7 in /usr/local/lib/python3.10/dist-packages (from -r requirements.txt (line 2)) (2.7.13)\n",
            "Requirement already satisfied: matplotlib in /usr/local/lib/python3.10/dist-packages (from -r requirements.txt (line 3)) (3.7.1)\n",
            "Requirement already satisfied: numpy in /usr/local/lib/python3.10/dist-packages (from -r requirements.txt (line 4)) (1.23.5)\n",
            "Requirement already satisfied: pandas in /usr/local/lib/python3.10/dist-packages (from -r requirements.txt (line 5)) (1.5.3)\n",
            "Requirement already satisfied: scikit-learn in /usr/local/lib/python3.10/dist-packages (from -r requirements.txt (line 6)) (1.2.2)\n",
            "Requirement already satisfied: torchvision in /usr/local/lib/python3.10/dist-packages (from -r requirements.txt (line 7)) (0.16.0+cu121)\n",
            "Requirement already satisfied: tqdm in /usr/local/lib/python3.10/dist-packages (from -r requirements.txt (line 8)) (4.66.1)\n",
            "Collecting wandb (from -r requirements.txt (line 9))\n",
            "  Downloading wandb-0.16.1-py3-none-any.whl (2.1 MB)\n",
            "\u001b[2K     \u001b[90m━━━━━━━━━━━━━━━━━━━━━━━━━━━━━━━━━━━━━━━━\u001b[0m \u001b[32m2.1/2.1 MB\u001b[0m \u001b[31m10.4 MB/s\u001b[0m eta \u001b[36m0:00:00\u001b[0m\n",
            "\u001b[?25hRequirement already satisfied: filelock in /usr/local/lib/python3.10/dist-packages (from torch>=1.9->-r requirements.txt (line 1)) (3.13.1)\n",
            "Requirement already satisfied: typing-extensions in /usr/local/lib/python3.10/dist-packages (from torch>=1.9->-r requirements.txt (line 1)) (4.5.0)\n",
            "Requirement already satisfied: sympy in /usr/local/lib/python3.10/dist-packages (from torch>=1.9->-r requirements.txt (line 1)) (1.12)\n",
            "Requirement already satisfied: networkx in /usr/local/lib/python3.10/dist-packages (from torch>=1.9->-r requirements.txt (line 1)) (3.2.1)\n",
            "Requirement already satisfied: jinja2 in /usr/local/lib/python3.10/dist-packages (from torch>=1.9->-r requirements.txt (line 1)) (3.1.2)\n",
            "Requirement already satisfied: fsspec in /usr/local/lib/python3.10/dist-packages (from torch>=1.9->-r requirements.txt (line 1)) (2023.6.0)\n",
            "Requirement already satisfied: triton==2.1.0 in /usr/local/lib/python3.10/dist-packages (from torch>=1.9->-r requirements.txt (line 1)) (2.1.0)\n",
            "Requirement already satisfied: pip in /usr/local/lib/python3.10/dist-packages (from fastai>=2.7->-r requirements.txt (line 2)) (23.1.2)\n",
            "Requirement already satisfied: packaging in /usr/local/lib/python3.10/dist-packages (from fastai>=2.7->-r requirements.txt (line 2)) (23.2)\n",
            "Requirement already satisfied: fastdownload<2,>=0.0.5 in /usr/local/lib/python3.10/dist-packages (from fastai>=2.7->-r requirements.txt (line 2)) (0.0.7)\n",
            "Requirement already satisfied: fastcore<1.6,>=1.5.29 in /usr/local/lib/python3.10/dist-packages (from fastai>=2.7->-r requirements.txt (line 2)) (1.5.29)\n",
            "Requirement already satisfied: requests in /usr/local/lib/python3.10/dist-packages (from fastai>=2.7->-r requirements.txt (line 2)) (2.31.0)\n",
            "Requirement already satisfied: pyyaml in /usr/local/lib/python3.10/dist-packages (from fastai>=2.7->-r requirements.txt (line 2)) (6.0.1)\n",
            "Requirement already satisfied: fastprogress>=0.2.4 in /usr/local/lib/python3.10/dist-packages (from fastai>=2.7->-r requirements.txt (line 2)) (1.0.3)\n",
            "Requirement already satisfied: pillow>=9.0.0 in /usr/local/lib/python3.10/dist-packages (from fastai>=2.7->-r requirements.txt (line 2)) (9.4.0)\n",
            "Requirement already satisfied: scipy in /usr/local/lib/python3.10/dist-packages (from fastai>=2.7->-r requirements.txt (line 2)) (1.11.4)\n",
            "Requirement already satisfied: spacy<4 in /usr/local/lib/python3.10/dist-packages (from fastai>=2.7->-r requirements.txt (line 2)) (3.6.1)\n",
            "Requirement already satisfied: contourpy>=1.0.1 in /usr/local/lib/python3.10/dist-packages (from matplotlib->-r requirements.txt (line 3)) (1.2.0)\n",
            "Requirement already satisfied: cycler>=0.10 in /usr/local/lib/python3.10/dist-packages (from matplotlib->-r requirements.txt (line 3)) (0.12.1)\n",
            "Requirement already satisfied: fonttools>=4.22.0 in /usr/local/lib/python3.10/dist-packages (from matplotlib->-r requirements.txt (line 3)) (4.47.0)\n",
            "Requirement already satisfied: kiwisolver>=1.0.1 in /usr/local/lib/python3.10/dist-packages (from matplotlib->-r requirements.txt (line 3)) (1.4.5)\n",
            "Requirement already satisfied: pyparsing>=2.3.1 in /usr/local/lib/python3.10/dist-packages (from matplotlib->-r requirements.txt (line 3)) (3.1.1)\n",
            "Requirement already satisfied: python-dateutil>=2.7 in /usr/local/lib/python3.10/dist-packages (from matplotlib->-r requirements.txt (line 3)) (2.8.2)\n",
            "Requirement already satisfied: pytz>=2020.1 in /usr/local/lib/python3.10/dist-packages (from pandas->-r requirements.txt (line 5)) (2023.3.post1)\n",
            "Requirement already satisfied: joblib>=1.1.1 in /usr/local/lib/python3.10/dist-packages (from scikit-learn->-r requirements.txt (line 6)) (1.3.2)\n",
            "Requirement already satisfied: threadpoolctl>=2.0.0 in /usr/local/lib/python3.10/dist-packages (from scikit-learn->-r requirements.txt (line 6)) (3.2.0)\n",
            "Requirement already satisfied: Click!=8.0.0,>=7.1 in /usr/local/lib/python3.10/dist-packages (from wandb->-r requirements.txt (line 9)) (8.1.7)\n",
            "Collecting GitPython!=3.1.29,>=1.0.0 (from wandb->-r requirements.txt (line 9))\n",
            "  Downloading GitPython-3.1.40-py3-none-any.whl (190 kB)\n",
            "\u001b[2K     \u001b[90m━━━━━━━━━━━━━━━━━━━━━━━━━━━━━━━━━━━━━━━━\u001b[0m \u001b[32m190.6/190.6 kB\u001b[0m \u001b[31m10.2 MB/s\u001b[0m eta \u001b[36m0:00:00\u001b[0m\n",
            "\u001b[?25hRequirement already satisfied: psutil>=5.0.0 in /usr/local/lib/python3.10/dist-packages (from wandb->-r requirements.txt (line 9)) (5.9.5)\n",
            "Collecting sentry-sdk>=1.0.0 (from wandb->-r requirements.txt (line 9))\n",
            "  Downloading sentry_sdk-1.39.1-py2.py3-none-any.whl (254 kB)\n",
            "\u001b[2K     \u001b[90m━━━━━━━━━━━━━━━━━━━━━━━━━━━━━━━━━━━━━━━━\u001b[0m \u001b[32m254.1/254.1 kB\u001b[0m \u001b[31m12.3 MB/s\u001b[0m eta \u001b[36m0:00:00\u001b[0m\n",
            "\u001b[?25hCollecting docker-pycreds>=0.4.0 (from wandb->-r requirements.txt (line 9))\n",
            "  Downloading docker_pycreds-0.4.0-py2.py3-none-any.whl (9.0 kB)\n",
            "Collecting setproctitle (from wandb->-r requirements.txt (line 9))\n",
            "  Downloading setproctitle-1.3.3-cp310-cp310-manylinux_2_5_x86_64.manylinux1_x86_64.manylinux_2_17_x86_64.manylinux2014_x86_64.whl (30 kB)\n",
            "Requirement already satisfied: setuptools in /usr/local/lib/python3.10/dist-packages (from wandb->-r requirements.txt (line 9)) (67.7.2)\n",
            "Requirement already satisfied: appdirs>=1.4.3 in /usr/local/lib/python3.10/dist-packages (from wandb->-r requirements.txt (line 9)) (1.4.4)\n",
            "Requirement already satisfied: protobuf!=4.21.0,<5,>=3.19.0 in /usr/local/lib/python3.10/dist-packages (from wandb->-r requirements.txt (line 9)) (3.20.3)\n",
            "Requirement already satisfied: six>=1.4.0 in /usr/local/lib/python3.10/dist-packages (from docker-pycreds>=0.4.0->wandb->-r requirements.txt (line 9)) (1.16.0)\n",
            "Collecting gitdb<5,>=4.0.1 (from GitPython!=3.1.29,>=1.0.0->wandb->-r requirements.txt (line 9))\n",
            "  Downloading gitdb-4.0.11-py3-none-any.whl (62 kB)\n",
            "\u001b[2K     \u001b[90m━━━━━━━━━━━━━━━━━━━━━━━━━━━━━━━━━━━━━━━━\u001b[0m \u001b[32m62.7/62.7 kB\u001b[0m \u001b[31m2.5 MB/s\u001b[0m eta \u001b[36m0:00:00\u001b[0m\n",
            "\u001b[?25hRequirement already satisfied: charset-normalizer<4,>=2 in /usr/local/lib/python3.10/dist-packages (from requests->fastai>=2.7->-r requirements.txt (line 2)) (3.3.2)\n",
            "Requirement already satisfied: idna<4,>=2.5 in /usr/local/lib/python3.10/dist-packages (from requests->fastai>=2.7->-r requirements.txt (line 2)) (3.6)\n",
            "Requirement already satisfied: urllib3<3,>=1.21.1 in /usr/local/lib/python3.10/dist-packages (from requests->fastai>=2.7->-r requirements.txt (line 2)) (2.0.7)\n",
            "Requirement already satisfied: certifi>=2017.4.17 in /usr/local/lib/python3.10/dist-packages (from requests->fastai>=2.7->-r requirements.txt (line 2)) (2023.11.17)\n",
            "Requirement already satisfied: spacy-legacy<3.1.0,>=3.0.11 in /usr/local/lib/python3.10/dist-packages (from spacy<4->fastai>=2.7->-r requirements.txt (line 2)) (3.0.12)\n",
            "Requirement already satisfied: spacy-loggers<2.0.0,>=1.0.0 in /usr/local/lib/python3.10/dist-packages (from spacy<4->fastai>=2.7->-r requirements.txt (line 2)) (1.0.5)\n",
            "Requirement already satisfied: murmurhash<1.1.0,>=0.28.0 in /usr/local/lib/python3.10/dist-packages (from spacy<4->fastai>=2.7->-r requirements.txt (line 2)) (1.0.10)\n",
            "Requirement already satisfied: cymem<2.1.0,>=2.0.2 in /usr/local/lib/python3.10/dist-packages (from spacy<4->fastai>=2.7->-r requirements.txt (line 2)) (2.0.8)\n",
            "Requirement already satisfied: preshed<3.1.0,>=3.0.2 in /usr/local/lib/python3.10/dist-packages (from spacy<4->fastai>=2.7->-r requirements.txt (line 2)) (3.0.9)\n",
            "Requirement already satisfied: thinc<8.2.0,>=8.1.8 in /usr/local/lib/python3.10/dist-packages (from spacy<4->fastai>=2.7->-r requirements.txt (line 2)) (8.1.12)\n",
            "Requirement already satisfied: wasabi<1.2.0,>=0.9.1 in /usr/local/lib/python3.10/dist-packages (from spacy<4->fastai>=2.7->-r requirements.txt (line 2)) (1.1.2)\n",
            "Requirement already satisfied: srsly<3.0.0,>=2.4.3 in /usr/local/lib/python3.10/dist-packages (from spacy<4->fastai>=2.7->-r requirements.txt (line 2)) (2.4.8)\n",
            "Requirement already satisfied: catalogue<2.1.0,>=2.0.6 in /usr/local/lib/python3.10/dist-packages (from spacy<4->fastai>=2.7->-r requirements.txt (line 2)) (2.0.10)\n",
            "Requirement already satisfied: typer<0.10.0,>=0.3.0 in /usr/local/lib/python3.10/dist-packages (from spacy<4->fastai>=2.7->-r requirements.txt (line 2)) (0.9.0)\n",
            "Requirement already satisfied: pathy>=0.10.0 in /usr/local/lib/python3.10/dist-packages (from spacy<4->fastai>=2.7->-r requirements.txt (line 2)) (0.10.3)\n",
            "Requirement already satisfied: smart-open<7.0.0,>=5.2.1 in /usr/local/lib/python3.10/dist-packages (from spacy<4->fastai>=2.7->-r requirements.txt (line 2)) (6.4.0)\n",
            "Requirement already satisfied: pydantic!=1.8,!=1.8.1,<3.0.0,>=1.7.4 in /usr/local/lib/python3.10/dist-packages (from spacy<4->fastai>=2.7->-r requirements.txt (line 2)) (1.10.13)\n",
            "Requirement already satisfied: langcodes<4.0.0,>=3.2.0 in /usr/local/lib/python3.10/dist-packages (from spacy<4->fastai>=2.7->-r requirements.txt (line 2)) (3.3.0)\n",
            "Requirement already satisfied: MarkupSafe>=2.0 in /usr/local/lib/python3.10/dist-packages (from jinja2->torch>=1.9->-r requirements.txt (line 1)) (2.1.3)\n",
            "Requirement already satisfied: mpmath>=0.19 in /usr/local/lib/python3.10/dist-packages (from sympy->torch>=1.9->-r requirements.txt (line 1)) (1.3.0)\n",
            "Collecting smmap<6,>=3.0.1 (from gitdb<5,>=4.0.1->GitPython!=3.1.29,>=1.0.0->wandb->-r requirements.txt (line 9))\n",
            "  Downloading smmap-5.0.1-py3-none-any.whl (24 kB)\n",
            "Requirement already satisfied: blis<0.8.0,>=0.7.8 in /usr/local/lib/python3.10/dist-packages (from thinc<8.2.0,>=8.1.8->spacy<4->fastai>=2.7->-r requirements.txt (line 2)) (0.7.11)\n",
            "Requirement already satisfied: confection<1.0.0,>=0.0.1 in /usr/local/lib/python3.10/dist-packages (from thinc<8.2.0,>=8.1.8->spacy<4->fastai>=2.7->-r requirements.txt (line 2)) (0.1.4)\n",
            "Installing collected packages: smmap, setproctitle, sentry-sdk, docker-pycreds, gitdb, GitPython, wandb\n",
            "Successfully installed GitPython-3.1.40 docker-pycreds-0.4.0 gitdb-4.0.11 sentry-sdk-1.39.1 setproctitle-1.3.3 smmap-5.0.1 wandb-0.16.1\n"
          ]
        }
      ],
      "source": [
        "# Install dependencies (run once)\n",
        "!wget https://raw.githubusercontent.com/wandb/edu/main/mlops-001/lesson1/requirements.txt\n",
        "!wget https://raw.githubusercontent.com/wandb/edu/main/mlops-001/lesson1/params.py\n",
        "!wget https://raw.githubusercontent.com/wandb/edu/main/mlops-001/lesson1/utils.py\n",
        "!pip install -r requirements.txt"
      ]
    },
    {
      "cell_type": "markdown",
      "id": "a212966e-8f38-4b4a-8e00-2985120439ca",
      "metadata": {
        "id": "a212966e-8f38-4b4a-8e00-2985120439ca"
      },
      "source": [
        "# EDA\n",
        "<!--- @wandbcode{course-lesson1} -->\n",
        "\n",
        "In this notebook, we will download a sample of the [BDD100K](https://www.bdd100k.com/) semantic segmentation dataset and use W&B Artifacts and Tables to version and analyze our data."
      ]
    },
    {
      "cell_type": "code",
      "execution_count": 3,
      "id": "17490b58-a8f2-489e-9c71-ca0e078591dc",
      "metadata": {
        "id": "17490b58-a8f2-489e-9c71-ca0e078591dc"
      },
      "outputs": [],
      "source": [
        "DEBUG = False # set this flag to True to use a small subset of data for testing"
      ]
    },
    {
      "cell_type": "code",
      "execution_count": 6,
      "id": "7ee88efc-3257-4ed7-bb8c-1695f4a8c828",
      "metadata": {
        "id": "7ee88efc-3257-4ed7-bb8c-1695f4a8c828"
      },
      "outputs": [],
      "source": [
        "from fastai.vision.all import *\n",
        "import params\n",
        "\n",
        "import wandb"
      ]
    },
    {
      "cell_type": "markdown",
      "id": "055764da-7252-4796-86af-585007dea288",
      "metadata": {
        "id": "055764da-7252-4796-86af-585007dea288"
      },
      "source": [
        "We have defined some global configuration parameters in the `params.py` file. `ENTITY` should correspond to your W&B Team name if you work in a team, replace it with `None` if you work individually.\n",
        "\n",
        "In the section below, we will use `untar_data` function from `fastai` to download and unzip our datasets."
      ]
    },
    {
      "cell_type": "code",
      "execution_count": 9,
      "id": "0bae3750-a653-4265-9c52-c1f9af9b8393",
      "metadata": {
        "id": "0bae3750-a653-4265-9c52-c1f9af9b8393"
      },
      "outputs": [],
      "source": [
        "URL = 'https://storage.googleapis.com/wandb_course/bdd_simple_1k.zip'"
      ]
    },
    {
      "cell_type": "code",
      "execution_count": 11,
      "id": "0da50d19-860a-4b39-8320-a376c483da04",
      "metadata": {
        "id": "0da50d19-860a-4b39-8320-a376c483da04",
        "colab": {
          "base_uri": "https://localhost:8080/",
          "height": 37
        },
        "outputId": "27aabc86-417d-4e1e-f4b4-c345f24ce741"
      },
      "outputs": [
        {
          "output_type": "display_data",
          "data": {
            "text/plain": [
              "<IPython.core.display.HTML object>"
            ],
            "text/html": [
              "\n",
              "<style>\n",
              "    /* Turns off some styling */\n",
              "    progress {\n",
              "        /* gets rid of default border in Firefox and Opera. */\n",
              "        border: none;\n",
              "        /* Needs to be in here for Safari polyfill so background images work as expected. */\n",
              "        background-size: auto;\n",
              "    }\n",
              "    progress:not([value]), progress:not([value])::-webkit-progress-bar {\n",
              "        background: repeating-linear-gradient(45deg, #7e7e7e, #7e7e7e 10px, #5c5c5c 10px, #5c5c5c 20px);\n",
              "    }\n",
              "    .progress-bar-interrupted, .progress-bar-interrupted::-webkit-progress-bar {\n",
              "        background: #F44336;\n",
              "    }\n",
              "</style>\n"
            ]
          },
          "metadata": {}
        },
        {
          "output_type": "display_data",
          "data": {
            "text/plain": [
              "<IPython.core.display.HTML object>"
            ],
            "text/html": [
              "\n",
              "    <div>\n",
              "      <progress value='122470400' class='' max='122467691' style='width:300px; height:20px; vertical-align: middle;'></progress>\n",
              "      100.00% [122470400/122467691 00:01&lt;00:00]\n",
              "    </div>\n",
              "    "
            ]
          },
          "metadata": {}
        }
      ],
      "source": [
        "path = Path(untar_data(URL, force_download=True))"
      ]
    },
    {
      "cell_type": "code",
      "execution_count": 12,
      "id": "6df5b830-e685-4a0d-81e8-6dda10697dff",
      "metadata": {
        "id": "6df5b830-e685-4a0d-81e8-6dda10697dff",
        "colab": {
          "base_uri": "https://localhost:8080/"
        },
        "outputId": "8e64caf8-acb1-46a7-e271-4f7fc099258c"
      },
      "outputs": [
        {
          "output_type": "execute_result",
          "data": {
            "text/plain": [
              "(#3) [Path('/root/.fastai/data/bdd_simple_1k/LICENSE.txt'),Path('/root/.fastai/data/bdd_simple_1k/labels'),Path('/root/.fastai/data/bdd_simple_1k/images')]"
            ]
          },
          "metadata": {},
          "execution_count": 12
        }
      ],
      "source": [
        "path.ls()"
      ]
    },
    {
      "cell_type": "code",
      "source": [
        "(path/'images').ls()"
      ],
      "metadata": {
        "colab": {
          "base_uri": "https://localhost:8080/"
        },
        "id": "KOP2yVyTqtDk",
        "outputId": "ae207a2f-a9ce-4f73-833b-e18737dbfa3e"
      },
      "id": "KOP2yVyTqtDk",
      "execution_count": 15,
      "outputs": [
        {
          "output_type": "execute_result",
          "data": {
            "text/plain": [
              "(#1000) [Path('/root/.fastai/data/bdd_simple_1k/images/c7d8260d-e1f6b3f8.jpg'),Path('/root/.fastai/data/bdd_simple_1k/images/47924e4b-6bef7091.jpg'),Path('/root/.fastai/data/bdd_simple_1k/images/c060ea1f-12965687.jpg'),Path('/root/.fastai/data/bdd_simple_1k/images/12a3bfc4-6c271e39.jpg'),Path('/root/.fastai/data/bdd_simple_1k/images/69d0cfa5-00000000.jpg'),Path('/root/.fastai/data/bdd_simple_1k/images/b2f48fc3-f0ddacf0.jpg'),Path('/root/.fastai/data/bdd_simple_1k/images/39c1eaf1-f492b39a.jpg'),Path('/root/.fastai/data/bdd_simple_1k/images/655ff376-00000000.jpg'),Path('/root/.fastai/data/bdd_simple_1k/images/52407592-00000000.jpg'),Path('/root/.fastai/data/bdd_simple_1k/images/2c326e59-5d6f09ae.jpg')...]"
            ]
          },
          "metadata": {},
          "execution_count": 15
        }
      ]
    },
    {
      "cell_type": "markdown",
      "id": "db6708ae-abaa-432f-83b0-028a99222096",
      "metadata": {
        "id": "db6708ae-abaa-432f-83b0-028a99222096"
      },
      "source": [
        "Here we define several functions to help us process the data and upload it as a `Table` to W&B."
      ]
    },
    {
      "cell_type": "code",
      "execution_count": 18,
      "id": "5779f980-4d9b-4645-9726-642a25334e10",
      "metadata": {
        "id": "5779f980-4d9b-4645-9726-642a25334e10"
      },
      "outputs": [],
      "source": [
        "def label_func(fname):\n",
        "    return (fname.parent.parent/\"labels\")/f\"{fname.stem}_mask.png\"\n",
        "\n",
        "def get_classes_per_image(mask_data, class_labels):\n",
        "    unique = list(np.unique(mask_data))\n",
        "    result_dict = {}\n",
        "    for _class in class_labels.keys():\n",
        "        result_dict[class_labels[_class]] = int(_class in unique)\n",
        "    return result_dict\n",
        "\n",
        "def _create_table(image_files, class_labels):\n",
        "    \"Create a table with the dataset\"\n",
        "    labels = [str(class_labels[_lab]) for _lab in list(class_labels)]\n",
        "    table = wandb.Table(columns=[\"File_Name\",\"P1\" \"P2\" \"Images\", \"Dataset\"] + labels)\n",
        "\n",
        "    for i, image_file in progress_bar(enumerate(image_files), total=len(image_files)):\n",
        "        image = Image.open(image_file)\n",
        "        mask_data = np.array(Image.open(label_func(image_file)))\n",
        "        class_in_image = get_classes_per_image(mask_data, class_labels)\n",
        "        table.add_data(\n",
        "            str(image_file.name),\n",
        "            wandb.Image(\n",
        "                    image,\n",
        "                    masks={\n",
        "                        \"predictions\": {\n",
        "                            \"mask_data\": mask_data,\n",
        "                            \"class_labels\": class_labels,\n",
        "                        }\n",
        "                    }\n",
        "            ),\n",
        "            \"None\", # we don't have a dataset split yet\n",
        "            *[class_in_image[_lab] for _lab in labels]\n",
        "        )\n",
        "\n",
        "    return table"
      ]
    },
    {
      "cell_type": "markdown",
      "id": "eac085cd-2409-4baf-a887-108e3dca65b9",
      "metadata": {
        "id": "eac085cd-2409-4baf-a887-108e3dca65b9"
      },
      "source": [
        "We will start a new W&B `run` and put everything into a raw Artifact."
      ]
    },
    {
      "cell_type": "code",
      "execution_count": 19,
      "id": "e87141b3-b9b7-4a40-839c-64c835484f48",
      "metadata": {
        "id": "e87141b3-b9b7-4a40-839c-64c835484f48",
        "colab": {
          "base_uri": "https://localhost:8080/",
          "height": 191,
          "referenced_widgets": [
            "2c87f76e6a9d4c009cb5b115efea9525",
            "a55f8a5cb2e6462d99395eaedfc3d2a4",
            "291b136ff51046f4b7160f7fd30a1f31",
            "39eafb2e943d43a8907ef77472f12fbc",
            "6541d64fba9d4c76a68169fb6a20e138",
            "71334e4aca7f4f90b11b380e42a50a23",
            "5c9225a2b7334a24a68601678f09cae7",
            "edd0a4be60c8417ebf445ca59ccd042b"
          ]
        },
        "outputId": "eeb51d2e-f246-407f-c958-d8e4e73717f0"
      },
      "outputs": [
        {
          "output_type": "display_data",
          "data": {
            "text/plain": [
              "<IPython.core.display.HTML object>"
            ],
            "text/html": [
              "Finishing last run (ID:v1215yim) before initializing another..."
            ]
          },
          "metadata": {}
        },
        {
          "output_type": "display_data",
          "data": {
            "text/plain": [
              "VBox(children=(Label(value='0.010 MB of 0.010 MB uploaded\\r'), FloatProgress(value=1.0, max=1.0)))"
            ],
            "application/vnd.jupyter.widget-view+json": {
              "version_major": 2,
              "version_minor": 0,
              "model_id": "2c87f76e6a9d4c009cb5b115efea9525"
            }
          },
          "metadata": {}
        },
        {
          "output_type": "display_data",
          "data": {
            "text/plain": [
              "<IPython.core.display.HTML object>"
            ],
            "text/html": [
              " View run <strong style=\"color:#cdcd00\">clean-capybara-1</strong> at: <a href='https://wandb.ai/tmatin100/mlops-course-001/runs/v1215yim' target=\"_blank\">https://wandb.ai/tmatin100/mlops-course-001/runs/v1215yim</a><br/>Synced 4 W&B file(s), 0 media file(s), 0 artifact file(s) and 0 other file(s)"
            ]
          },
          "metadata": {}
        },
        {
          "output_type": "display_data",
          "data": {
            "text/plain": [
              "<IPython.core.display.HTML object>"
            ],
            "text/html": [
              "Find logs at: <code>./wandb/run-20240102_193439-v1215yim/logs</code>"
            ]
          },
          "metadata": {}
        },
        {
          "output_type": "display_data",
          "data": {
            "text/plain": [
              "<IPython.core.display.HTML object>"
            ],
            "text/html": [
              "Successfully finished last run (ID:v1215yim). Initializing new run:<br/>"
            ]
          },
          "metadata": {}
        },
        {
          "output_type": "display_data",
          "data": {
            "text/plain": [
              "<IPython.core.display.HTML object>"
            ],
            "text/html": [
              "Tracking run with wandb version 0.16.1"
            ]
          },
          "metadata": {}
        },
        {
          "output_type": "display_data",
          "data": {
            "text/plain": [
              "<IPython.core.display.HTML object>"
            ],
            "text/html": [
              "Run data is saved locally in <code>/content/wandb/run-20240102_193618-vtqvvasj</code>"
            ]
          },
          "metadata": {}
        },
        {
          "output_type": "display_data",
          "data": {
            "text/plain": [
              "<IPython.core.display.HTML object>"
            ],
            "text/html": [
              "Syncing run <strong><a href='https://wandb.ai/tmatin100/mlops-course-001/runs/vtqvvasj' target=\"_blank\">likely-vortex-2</a></strong> to <a href='https://wandb.ai/tmatin100/mlops-course-001' target=\"_blank\">Weights & Biases</a> (<a href='https://wandb.me/run' target=\"_blank\">docs</a>)<br/>"
            ]
          },
          "metadata": {}
        },
        {
          "output_type": "display_data",
          "data": {
            "text/plain": [
              "<IPython.core.display.HTML object>"
            ],
            "text/html": [
              " View project at <a href='https://wandb.ai/tmatin100/mlops-course-001' target=\"_blank\">https://wandb.ai/tmatin100/mlops-course-001</a>"
            ]
          },
          "metadata": {}
        },
        {
          "output_type": "display_data",
          "data": {
            "text/plain": [
              "<IPython.core.display.HTML object>"
            ],
            "text/html": [
              " View run at <a href='https://wandb.ai/tmatin100/mlops-course-001/runs/vtqvvasj' target=\"_blank\">https://wandb.ai/tmatin100/mlops-course-001/runs/vtqvvasj</a>"
            ]
          },
          "metadata": {}
        }
      ],
      "source": [
        "# START A NEW WANDB RUN\n",
        "run = wandb.init(project=params.WANDB_PROJECT, entity=params.ENTITY, job_type=\"upload\")\n",
        "\n",
        "# CREATE AN ARTIFACT\n",
        "raw_data_at = wandb.Artifact(params.RAW_DATA_AT, type=\"raw_data\")"
      ]
    },
    {
      "cell_type": "code",
      "execution_count": 21,
      "id": "f2de6968-b465-4e2e-aaf1-787a48c7981e",
      "metadata": {
        "id": "f2de6968-b465-4e2e-aaf1-787a48c7981e",
        "colab": {
          "base_uri": "https://localhost:8080/"
        },
        "outputId": "783199db-2cde-4cca-bf98-abf1b2108984"
      },
      "outputs": [
        {
          "output_type": "execute_result",
          "data": {
            "text/plain": [
              "ArtifactManifestEntry(path='LICENSE.txt', digest='X+6ZFkDOlnKesJCNt20yRg==', size=1594, local_path='/root/.local/share/wandb/artifacts/staging/tmpai8ig1t1')"
            ]
          },
          "metadata": {},
          "execution_count": 21
        }
      ],
      "source": [
        "# ADD FILE TO ARTIFACT\n",
        "raw_data_at.add_file(path/'LICENSE.txt', name='LICENSE.txt')"
      ]
    },
    {
      "cell_type": "markdown",
      "id": "10addc71-201d-4c29-af23-9a5d9a5cbddf",
      "metadata": {
        "id": "10addc71-201d-4c29-af23-9a5d9a5cbddf"
      },
      "source": [
        "Let's add the images and label masks."
      ]
    },
    {
      "cell_type": "code",
      "execution_count": 22,
      "id": "e2e29a83-ec60-4518-8b73-078f1719bc8f",
      "metadata": {
        "id": "e2e29a83-ec60-4518-8b73-078f1719bc8f",
        "colab": {
          "base_uri": "https://localhost:8080/"
        },
        "outputId": "bb187f08-4eaa-4c39-af87-af1cf84b3f3e"
      },
      "outputs": [
        {
          "output_type": "stream",
          "name": "stderr",
          "text": [
            "\u001b[34m\u001b[1mwandb\u001b[0m: Adding directory to artifact (/root/.fastai/data/bdd_simple_1k/images)... Done. 1.5s\n",
            "\u001b[34m\u001b[1mwandb\u001b[0m: Adding directory to artifact (/root/.fastai/data/bdd_simple_1k/labels)... Done. 1.3s\n"
          ]
        }
      ],
      "source": [
        "# ADD DIRECTORY/FOLDERS TO ARTIFACT\n",
        "raw_data_at.add_dir(path/'images', name='images')\n",
        "raw_data_at.add_dir(path/'labels', name='labels')"
      ]
    },
    {
      "cell_type": "markdown",
      "id": "01b989eb-36da-4194-9a34-88126749f210",
      "metadata": {
        "id": "01b989eb-36da-4194-9a34-88126749f210"
      },
      "source": [
        "Let's get the file names of images in our dataset and use the function we defined above to create a W&B Table."
      ]
    },
    {
      "cell_type": "code",
      "execution_count": 23,
      "id": "aeaa2dae-1b2b-4c70-8dcf-b079f4f05b86",
      "metadata": {
        "id": "aeaa2dae-1b2b-4c70-8dcf-b079f4f05b86"
      },
      "outputs": [],
      "source": [
        "image_files = get_image_files(path/\"images\", recurse=False)\n",
        "\n",
        "# sample a subset if DEBUG\n",
        "if DEBUG: image_files = image_files[:10]"
      ]
    },
    {
      "cell_type": "code",
      "execution_count": 24,
      "id": "451ff088-4cb3-4739-b4e8-308d03645ffe",
      "metadata": {
        "id": "451ff088-4cb3-4739-b4e8-308d03645ffe",
        "colab": {
          "base_uri": "https://localhost:8080/",
          "height": 37
        },
        "outputId": "eb5335d4-7926-4aea-fafe-c5bc3ca0b189"
      },
      "outputs": [
        {
          "output_type": "display_data",
          "data": {
            "text/plain": [
              "<IPython.core.display.HTML object>"
            ],
            "text/html": [
              "\n",
              "<style>\n",
              "    /* Turns off some styling */\n",
              "    progress {\n",
              "        /* gets rid of default border in Firefox and Opera. */\n",
              "        border: none;\n",
              "        /* Needs to be in here for Safari polyfill so background images work as expected. */\n",
              "        background-size: auto;\n",
              "    }\n",
              "    progress:not([value]), progress:not([value])::-webkit-progress-bar {\n",
              "        background: repeating-linear-gradient(45deg, #7e7e7e, #7e7e7e 10px, #5c5c5c 10px, #5c5c5c 20px);\n",
              "    }\n",
              "    .progress-bar-interrupted, .progress-bar-interrupted::-webkit-progress-bar {\n",
              "        background: #F44336;\n",
              "    }\n",
              "</style>\n"
            ]
          },
          "metadata": {}
        },
        {
          "output_type": "display_data",
          "data": {
            "text/plain": [
              "<IPython.core.display.HTML object>"
            ],
            "text/html": [
              "\n",
              "    <div>\n",
              "      <progress value='1000' class='' max='1000' style='width:300px; height:20px; vertical-align: middle;'></progress>\n",
              "      100.00% [1000/1000 05:03&lt;00:00]\n",
              "    </div>\n",
              "    "
            ]
          },
          "metadata": {}
        }
      ],
      "source": [
        "table = _create_table(image_files, params.BDD_CLASSES)"
      ]
    },
    {
      "cell_type": "markdown",
      "id": "ff73cd37-6a72-44f7-a5cf-6abe7d327092",
      "metadata": {
        "id": "ff73cd37-6a72-44f7-a5cf-6abe7d327092"
      },
      "source": [
        "Finally, we will add the Table to our Artifact, log it to W&B and finish our `run`."
      ]
    },
    {
      "cell_type": "code",
      "execution_count": 25,
      "id": "d4183e9c-75e4-48a8-a2e1-0f4492c0b5d0",
      "metadata": {
        "id": "d4183e9c-75e4-48a8-a2e1-0f4492c0b5d0",
        "colab": {
          "base_uri": "https://localhost:8080/"
        },
        "outputId": "033ca902-4e7e-42e2-9f78-9a5356322966"
      },
      "outputs": [
        {
          "output_type": "execute_result",
          "data": {
            "text/plain": [
              "ArtifactManifestEntry(path='eda_table.table.json', digest='Z/NdI+FWAK/yrltCOJe5+A==', size=588836, local_path='/root/.local/share/wandb/artifacts/staging/tmpz4gwffy0')"
            ]
          },
          "metadata": {},
          "execution_count": 25
        }
      ],
      "source": [
        "# ADD TABLE TO ARTIFACT\n",
        "raw_data_at.add(table, \"eda_table\")"
      ]
    },
    {
      "cell_type": "code",
      "execution_count": 26,
      "id": "e81ed9c8-6905-4841-a9f7-e3f3b9b6d927",
      "metadata": {
        "id": "e81ed9c8-6905-4841-a9f7-e3f3b9b6d927",
        "colab": {
          "base_uri": "https://localhost:8080/"
        },
        "outputId": "cde14f17-70b5-4159-f582-265428508d9f"
      },
      "outputs": [
        {
          "output_type": "execute_result",
          "data": {
            "text/plain": [
              "<Artifact bdd_simple_1k>"
            ]
          },
          "metadata": {},
          "execution_count": 26
        }
      ],
      "source": [
        "# LOG ARTIFACT\n",
        "run.log_artifact(raw_data_at)\n"
      ]
    },
    {
      "cell_type": "code",
      "source": [
        "# FINISH RUN\n",
        "run.finish()"
      ],
      "metadata": {
        "colab": {
          "base_uri": "https://localhost:8080/",
          "height": 69,
          "referenced_widgets": [
            "70cf5b45a60943839c3449c2bb4eb179",
            "40d526e584554d3783bb19f3a3115fb4",
            "967dcaef98fd4c0b89315d15ad5d4109",
            "ff9c5814f39f4f27b5dbf0b7b95ba9ca",
            "638d4a784e7d471dbf755f9b9e861b12",
            "dc2402e954374063914ee2710f435d52",
            "40bbfdc688964eb3952eff8f34054da4",
            "1fdad71427ce4fceae601340029f77e5"
          ]
        },
        "id": "xGyOJ9hF0baY",
        "outputId": "808e7ef2-7244-4e27-fc03-d1b24a324076"
      },
      "id": "xGyOJ9hF0baY",
      "execution_count": 27,
      "outputs": [
        {
          "output_type": "display_data",
          "data": {
            "text/plain": [
              "VBox(children=(Label(value='846.567 MB of 846.567 MB uploaded\\r'), FloatProgress(value=1.0, max=1.0)))"
            ],
            "application/vnd.jupyter.widget-view+json": {
              "version_major": 2,
              "version_minor": 0,
              "model_id": "70cf5b45a60943839c3449c2bb4eb179"
            }
          },
          "metadata": {}
        },
        {
          "output_type": "display_data",
          "data": {
            "text/plain": [
              "<IPython.core.display.HTML object>"
            ],
            "text/html": [
              " View run <strong style=\"color:#cdcd00\">likely-vortex-2</strong> at: <a href='https://wandb.ai/tmatin100/mlops-course-001/runs/vtqvvasj' target=\"_blank\">https://wandb.ai/tmatin100/mlops-course-001/runs/vtqvvasj</a><br/>Synced 5 W&B file(s), 0 media file(s), 4007 artifact file(s) and 0 other file(s)"
            ]
          },
          "metadata": {}
        },
        {
          "output_type": "display_data",
          "data": {
            "text/plain": [
              "<IPython.core.display.HTML object>"
            ],
            "text/html": [
              "Find logs at: <code>./wandb/run-20240102_193618-vtqvvasj/logs</code>"
            ]
          },
          "metadata": {}
        }
      ]
    }
  ],
  "metadata": {
    "kernelspec": {
      "display_name": "Python 3",
      "language": "python",
      "name": "python3"
    },
    "language_info": {
      "name": "python",
      "version": "3.10.6 (main, Aug 30 2022, 04:58:14) [Clang 13.1.6 (clang-1316.0.21.2.5)]"
    },
    "vscode": {
      "interpreter": {
        "hash": "b0fa6594d8f4cbf19f97940f81e996739fb7646882a419484c72d19e05852a7e"
      }
    },
    "colab": {
      "provenance": [],
      "include_colab_link": true
    },
    "widgets": {
      "application/vnd.jupyter.widget-state+json": {
        "2c87f76e6a9d4c009cb5b115efea9525": {
          "model_module": "@jupyter-widgets/controls",
          "model_name": "VBoxModel",
          "model_module_version": "1.5.0",
          "state": {
            "_dom_classes": [],
            "_model_module": "@jupyter-widgets/controls",
            "_model_module_version": "1.5.0",
            "_model_name": "VBoxModel",
            "_view_count": null,
            "_view_module": "@jupyter-widgets/controls",
            "_view_module_version": "1.5.0",
            "_view_name": "VBoxView",
            "box_style": "",
            "children": [
              "IPY_MODEL_a55f8a5cb2e6462d99395eaedfc3d2a4",
              "IPY_MODEL_291b136ff51046f4b7160f7fd30a1f31"
            ],
            "layout": "IPY_MODEL_39eafb2e943d43a8907ef77472f12fbc"
          }
        },
        "a55f8a5cb2e6462d99395eaedfc3d2a4": {
          "model_module": "@jupyter-widgets/controls",
          "model_name": "LabelModel",
          "model_module_version": "1.5.0",
          "state": {
            "_dom_classes": [],
            "_model_module": "@jupyter-widgets/controls",
            "_model_module_version": "1.5.0",
            "_model_name": "LabelModel",
            "_view_count": null,
            "_view_module": "@jupyter-widgets/controls",
            "_view_module_version": "1.5.0",
            "_view_name": "LabelView",
            "description": "",
            "description_tooltip": null,
            "layout": "IPY_MODEL_6541d64fba9d4c76a68169fb6a20e138",
            "placeholder": "​",
            "style": "IPY_MODEL_71334e4aca7f4f90b11b380e42a50a23",
            "value": "0.010 MB of 0.010 MB uploaded\r"
          }
        },
        "291b136ff51046f4b7160f7fd30a1f31": {
          "model_module": "@jupyter-widgets/controls",
          "model_name": "FloatProgressModel",
          "model_module_version": "1.5.0",
          "state": {
            "_dom_classes": [],
            "_model_module": "@jupyter-widgets/controls",
            "_model_module_version": "1.5.0",
            "_model_name": "FloatProgressModel",
            "_view_count": null,
            "_view_module": "@jupyter-widgets/controls",
            "_view_module_version": "1.5.0",
            "_view_name": "ProgressView",
            "bar_style": "",
            "description": "",
            "description_tooltip": null,
            "layout": "IPY_MODEL_5c9225a2b7334a24a68601678f09cae7",
            "max": 1,
            "min": 0,
            "orientation": "horizontal",
            "style": "IPY_MODEL_edd0a4be60c8417ebf445ca59ccd042b",
            "value": 1
          }
        },
        "39eafb2e943d43a8907ef77472f12fbc": {
          "model_module": "@jupyter-widgets/base",
          "model_name": "LayoutModel",
          "model_module_version": "1.2.0",
          "state": {
            "_model_module": "@jupyter-widgets/base",
            "_model_module_version": "1.2.0",
            "_model_name": "LayoutModel",
            "_view_count": null,
            "_view_module": "@jupyter-widgets/base",
            "_view_module_version": "1.2.0",
            "_view_name": "LayoutView",
            "align_content": null,
            "align_items": null,
            "align_self": null,
            "border": null,
            "bottom": null,
            "display": null,
            "flex": null,
            "flex_flow": null,
            "grid_area": null,
            "grid_auto_columns": null,
            "grid_auto_flow": null,
            "grid_auto_rows": null,
            "grid_column": null,
            "grid_gap": null,
            "grid_row": null,
            "grid_template_areas": null,
            "grid_template_columns": null,
            "grid_template_rows": null,
            "height": null,
            "justify_content": null,
            "justify_items": null,
            "left": null,
            "margin": null,
            "max_height": null,
            "max_width": null,
            "min_height": null,
            "min_width": null,
            "object_fit": null,
            "object_position": null,
            "order": null,
            "overflow": null,
            "overflow_x": null,
            "overflow_y": null,
            "padding": null,
            "right": null,
            "top": null,
            "visibility": null,
            "width": null
          }
        },
        "6541d64fba9d4c76a68169fb6a20e138": {
          "model_module": "@jupyter-widgets/base",
          "model_name": "LayoutModel",
          "model_module_version": "1.2.0",
          "state": {
            "_model_module": "@jupyter-widgets/base",
            "_model_module_version": "1.2.0",
            "_model_name": "LayoutModel",
            "_view_count": null,
            "_view_module": "@jupyter-widgets/base",
            "_view_module_version": "1.2.0",
            "_view_name": "LayoutView",
            "align_content": null,
            "align_items": null,
            "align_self": null,
            "border": null,
            "bottom": null,
            "display": null,
            "flex": null,
            "flex_flow": null,
            "grid_area": null,
            "grid_auto_columns": null,
            "grid_auto_flow": null,
            "grid_auto_rows": null,
            "grid_column": null,
            "grid_gap": null,
            "grid_row": null,
            "grid_template_areas": null,
            "grid_template_columns": null,
            "grid_template_rows": null,
            "height": null,
            "justify_content": null,
            "justify_items": null,
            "left": null,
            "margin": null,
            "max_height": null,
            "max_width": null,
            "min_height": null,
            "min_width": null,
            "object_fit": null,
            "object_position": null,
            "order": null,
            "overflow": null,
            "overflow_x": null,
            "overflow_y": null,
            "padding": null,
            "right": null,
            "top": null,
            "visibility": null,
            "width": null
          }
        },
        "71334e4aca7f4f90b11b380e42a50a23": {
          "model_module": "@jupyter-widgets/controls",
          "model_name": "DescriptionStyleModel",
          "model_module_version": "1.5.0",
          "state": {
            "_model_module": "@jupyter-widgets/controls",
            "_model_module_version": "1.5.0",
            "_model_name": "DescriptionStyleModel",
            "_view_count": null,
            "_view_module": "@jupyter-widgets/base",
            "_view_module_version": "1.2.0",
            "_view_name": "StyleView",
            "description_width": ""
          }
        },
        "5c9225a2b7334a24a68601678f09cae7": {
          "model_module": "@jupyter-widgets/base",
          "model_name": "LayoutModel",
          "model_module_version": "1.2.0",
          "state": {
            "_model_module": "@jupyter-widgets/base",
            "_model_module_version": "1.2.0",
            "_model_name": "LayoutModel",
            "_view_count": null,
            "_view_module": "@jupyter-widgets/base",
            "_view_module_version": "1.2.0",
            "_view_name": "LayoutView",
            "align_content": null,
            "align_items": null,
            "align_self": null,
            "border": null,
            "bottom": null,
            "display": null,
            "flex": null,
            "flex_flow": null,
            "grid_area": null,
            "grid_auto_columns": null,
            "grid_auto_flow": null,
            "grid_auto_rows": null,
            "grid_column": null,
            "grid_gap": null,
            "grid_row": null,
            "grid_template_areas": null,
            "grid_template_columns": null,
            "grid_template_rows": null,
            "height": null,
            "justify_content": null,
            "justify_items": null,
            "left": null,
            "margin": null,
            "max_height": null,
            "max_width": null,
            "min_height": null,
            "min_width": null,
            "object_fit": null,
            "object_position": null,
            "order": null,
            "overflow": null,
            "overflow_x": null,
            "overflow_y": null,
            "padding": null,
            "right": null,
            "top": null,
            "visibility": null,
            "width": null
          }
        },
        "edd0a4be60c8417ebf445ca59ccd042b": {
          "model_module": "@jupyter-widgets/controls",
          "model_name": "ProgressStyleModel",
          "model_module_version": "1.5.0",
          "state": {
            "_model_module": "@jupyter-widgets/controls",
            "_model_module_version": "1.5.0",
            "_model_name": "ProgressStyleModel",
            "_view_count": null,
            "_view_module": "@jupyter-widgets/base",
            "_view_module_version": "1.2.0",
            "_view_name": "StyleView",
            "bar_color": null,
            "description_width": ""
          }
        },
        "70cf5b45a60943839c3449c2bb4eb179": {
          "model_module": "@jupyter-widgets/controls",
          "model_name": "VBoxModel",
          "model_module_version": "1.5.0",
          "state": {
            "_dom_classes": [],
            "_model_module": "@jupyter-widgets/controls",
            "_model_module_version": "1.5.0",
            "_model_name": "VBoxModel",
            "_view_count": null,
            "_view_module": "@jupyter-widgets/controls",
            "_view_module_version": "1.5.0",
            "_view_name": "VBoxView",
            "box_style": "",
            "children": [
              "IPY_MODEL_40d526e584554d3783bb19f3a3115fb4",
              "IPY_MODEL_967dcaef98fd4c0b89315d15ad5d4109"
            ],
            "layout": "IPY_MODEL_ff9c5814f39f4f27b5dbf0b7b95ba9ca"
          }
        },
        "40d526e584554d3783bb19f3a3115fb4": {
          "model_module": "@jupyter-widgets/controls",
          "model_name": "LabelModel",
          "model_module_version": "1.5.0",
          "state": {
            "_dom_classes": [],
            "_model_module": "@jupyter-widgets/controls",
            "_model_module_version": "1.5.0",
            "_model_name": "LabelModel",
            "_view_count": null,
            "_view_module": "@jupyter-widgets/controls",
            "_view_module_version": "1.5.0",
            "_view_name": "LabelView",
            "description": "",
            "description_tooltip": null,
            "layout": "IPY_MODEL_638d4a784e7d471dbf755f9b9e861b12",
            "placeholder": "​",
            "style": "IPY_MODEL_dc2402e954374063914ee2710f435d52",
            "value": "846.576 MB of 846.576 MB uploaded\r"
          }
        },
        "967dcaef98fd4c0b89315d15ad5d4109": {
          "model_module": "@jupyter-widgets/controls",
          "model_name": "FloatProgressModel",
          "model_module_version": "1.5.0",
          "state": {
            "_dom_classes": [],
            "_model_module": "@jupyter-widgets/controls",
            "_model_module_version": "1.5.0",
            "_model_name": "FloatProgressModel",
            "_view_count": null,
            "_view_module": "@jupyter-widgets/controls",
            "_view_module_version": "1.5.0",
            "_view_name": "ProgressView",
            "bar_style": "",
            "description": "",
            "description_tooltip": null,
            "layout": "IPY_MODEL_40bbfdc688964eb3952eff8f34054da4",
            "max": 1,
            "min": 0,
            "orientation": "horizontal",
            "style": "IPY_MODEL_1fdad71427ce4fceae601340029f77e5",
            "value": 1
          }
        },
        "ff9c5814f39f4f27b5dbf0b7b95ba9ca": {
          "model_module": "@jupyter-widgets/base",
          "model_name": "LayoutModel",
          "model_module_version": "1.2.0",
          "state": {
            "_model_module": "@jupyter-widgets/base",
            "_model_module_version": "1.2.0",
            "_model_name": "LayoutModel",
            "_view_count": null,
            "_view_module": "@jupyter-widgets/base",
            "_view_module_version": "1.2.0",
            "_view_name": "LayoutView",
            "align_content": null,
            "align_items": null,
            "align_self": null,
            "border": null,
            "bottom": null,
            "display": null,
            "flex": null,
            "flex_flow": null,
            "grid_area": null,
            "grid_auto_columns": null,
            "grid_auto_flow": null,
            "grid_auto_rows": null,
            "grid_column": null,
            "grid_gap": null,
            "grid_row": null,
            "grid_template_areas": null,
            "grid_template_columns": null,
            "grid_template_rows": null,
            "height": null,
            "justify_content": null,
            "justify_items": null,
            "left": null,
            "margin": null,
            "max_height": null,
            "max_width": null,
            "min_height": null,
            "min_width": null,
            "object_fit": null,
            "object_position": null,
            "order": null,
            "overflow": null,
            "overflow_x": null,
            "overflow_y": null,
            "padding": null,
            "right": null,
            "top": null,
            "visibility": null,
            "width": null
          }
        },
        "638d4a784e7d471dbf755f9b9e861b12": {
          "model_module": "@jupyter-widgets/base",
          "model_name": "LayoutModel",
          "model_module_version": "1.2.0",
          "state": {
            "_model_module": "@jupyter-widgets/base",
            "_model_module_version": "1.2.0",
            "_model_name": "LayoutModel",
            "_view_count": null,
            "_view_module": "@jupyter-widgets/base",
            "_view_module_version": "1.2.0",
            "_view_name": "LayoutView",
            "align_content": null,
            "align_items": null,
            "align_self": null,
            "border": null,
            "bottom": null,
            "display": null,
            "flex": null,
            "flex_flow": null,
            "grid_area": null,
            "grid_auto_columns": null,
            "grid_auto_flow": null,
            "grid_auto_rows": null,
            "grid_column": null,
            "grid_gap": null,
            "grid_row": null,
            "grid_template_areas": null,
            "grid_template_columns": null,
            "grid_template_rows": null,
            "height": null,
            "justify_content": null,
            "justify_items": null,
            "left": null,
            "margin": null,
            "max_height": null,
            "max_width": null,
            "min_height": null,
            "min_width": null,
            "object_fit": null,
            "object_position": null,
            "order": null,
            "overflow": null,
            "overflow_x": null,
            "overflow_y": null,
            "padding": null,
            "right": null,
            "top": null,
            "visibility": null,
            "width": null
          }
        },
        "dc2402e954374063914ee2710f435d52": {
          "model_module": "@jupyter-widgets/controls",
          "model_name": "DescriptionStyleModel",
          "model_module_version": "1.5.0",
          "state": {
            "_model_module": "@jupyter-widgets/controls",
            "_model_module_version": "1.5.0",
            "_model_name": "DescriptionStyleModel",
            "_view_count": null,
            "_view_module": "@jupyter-widgets/base",
            "_view_module_version": "1.2.0",
            "_view_name": "StyleView",
            "description_width": ""
          }
        },
        "40bbfdc688964eb3952eff8f34054da4": {
          "model_module": "@jupyter-widgets/base",
          "model_name": "LayoutModel",
          "model_module_version": "1.2.0",
          "state": {
            "_model_module": "@jupyter-widgets/base",
            "_model_module_version": "1.2.0",
            "_model_name": "LayoutModel",
            "_view_count": null,
            "_view_module": "@jupyter-widgets/base",
            "_view_module_version": "1.2.0",
            "_view_name": "LayoutView",
            "align_content": null,
            "align_items": null,
            "align_self": null,
            "border": null,
            "bottom": null,
            "display": null,
            "flex": null,
            "flex_flow": null,
            "grid_area": null,
            "grid_auto_columns": null,
            "grid_auto_flow": null,
            "grid_auto_rows": null,
            "grid_column": null,
            "grid_gap": null,
            "grid_row": null,
            "grid_template_areas": null,
            "grid_template_columns": null,
            "grid_template_rows": null,
            "height": null,
            "justify_content": null,
            "justify_items": null,
            "left": null,
            "margin": null,
            "max_height": null,
            "max_width": null,
            "min_height": null,
            "min_width": null,
            "object_fit": null,
            "object_position": null,
            "order": null,
            "overflow": null,
            "overflow_x": null,
            "overflow_y": null,
            "padding": null,
            "right": null,
            "top": null,
            "visibility": null,
            "width": null
          }
        },
        "1fdad71427ce4fceae601340029f77e5": {
          "model_module": "@jupyter-widgets/controls",
          "model_name": "ProgressStyleModel",
          "model_module_version": "1.5.0",
          "state": {
            "_model_module": "@jupyter-widgets/controls",
            "_model_module_version": "1.5.0",
            "_model_name": "ProgressStyleModel",
            "_view_count": null,
            "_view_module": "@jupyter-widgets/base",
            "_view_module_version": "1.2.0",
            "_view_name": "StyleView",
            "bar_color": null,
            "description_width": ""
          }
        }
      }
    }
  },
  "nbformat": 4,
  "nbformat_minor": 5
}